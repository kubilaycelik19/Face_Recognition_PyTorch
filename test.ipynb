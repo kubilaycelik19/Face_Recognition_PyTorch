{
 "cells": [
  {
   "cell_type": "code",
   "execution_count": 37,
   "metadata": {},
   "outputs": [
    {
     "ename": "ModuleNotFoundError",
     "evalue": "No module named 'matplotlib'",
     "output_type": "error",
     "traceback": [
      "\u001b[1;31m---------------------------------------------------------------------------\u001b[0m",
      "\u001b[1;31mModuleNotFoundError\u001b[0m                       Traceback (most recent call last)",
      "Cell \u001b[1;32mIn[37], line 7\u001b[0m\n\u001b[0;32m      5\u001b[0m \u001b[38;5;28;01mfrom\u001b[39;00m \u001b[38;5;21;01mtorch\u001b[39;00m\u001b[38;5;21;01m.\u001b[39;00m\u001b[38;5;21;01mutils\u001b[39;00m\u001b[38;5;21;01m.\u001b[39;00m\u001b[38;5;21;01mdata\u001b[39;00m \u001b[38;5;28;01mimport\u001b[39;00m DataLoader\n\u001b[0;32m      6\u001b[0m \u001b[38;5;28;01mfrom\u001b[39;00m \u001b[38;5;21;01mtorchvision\u001b[39;00m \u001b[38;5;28;01mimport\u001b[39;00m datasets, transforms\n\u001b[1;32m----> 7\u001b[0m \u001b[38;5;28;01mimport\u001b[39;00m \u001b[38;5;21;01mmatplotlib\u001b[39;00m\u001b[38;5;21;01m.\u001b[39;00m\u001b[38;5;21;01mpyplot\u001b[39;00m \u001b[38;5;28;01mas\u001b[39;00m \u001b[38;5;21;01mplt\u001b[39;00m\n",
      "\u001b[1;31mModuleNotFoundError\u001b[0m: No module named 'matplotlib'"
     ]
    }
   ],
   "source": [
    "import cv2\n",
    "import numpy as np\n",
    "import torch\n",
    "import dlib\n",
    "from torch.utils.data import DataLoader\n",
    "from torchvision import datasets, transforms\n",
    "import matplotlib.pyplot as plt"
   ]
  },
  {
   "cell_type": "code",
   "execution_count": 2,
   "metadata": {},
   "outputs": [
    {
     "name": "stderr",
     "output_type": "stream",
     "text": [
      "C:\\Users\\celik\\AppData\\Local\\Temp\\ipykernel_7716\\1410913611.py:2: FutureWarning: You are using `torch.load` with `weights_only=False` (the current default value), which uses the default pickle module implicitly. It is possible to construct malicious pickle data which will execute arbitrary code during unpickling (See https://github.com/pytorch/pytorch/blob/main/SECURITY.md#untrusted-models for more details). In a future release, the default value for `weights_only` will be flipped to `True`. This limits the functions that could be executed during unpickling. Arbitrary objects will no longer be allowed to be loaded via this mode unless they are explicitly allowlisted by the user via `torch.serialization.add_safe_globals`. We recommend you start setting `weights_only=True` for any use case where you don't have full control of the loaded file. Please open an issue on GitHub for any issues related to this experimental feature.\n",
      "  model = torch.load(\"FirstTrainFaceNet.pth\")\n"
     ]
    }
   ],
   "source": [
    "detector = dlib.get_frontal_face_detector()\n",
    "model = torch.load(\"FirstTrainFaceNet.pth\")"
   ]
  },
  {
   "cell_type": "code",
   "execution_count": 7,
   "metadata": {},
   "outputs": [
    {
     "data": {
      "text/plain": [
       "Sequential(\n",
       "  (0): Conv2d(3, 64, kernel_size=(3, 3), stride=(1, 1), padding=(1, 1))\n",
       "  (1): BatchNorm2d(64, eps=1e-05, momentum=0.1, affine=True, track_running_stats=True)\n",
       "  (2): ReLU()\n",
       "  (3): MaxPool2d(kernel_size=2, stride=2, padding=0, dilation=1, ceil_mode=False)\n",
       "  (4): Conv2d(64, 128, kernel_size=(3, 3), stride=(1, 1), padding=(1, 1))\n",
       "  (5): BatchNorm2d(128, eps=1e-05, momentum=0.1, affine=True, track_running_stats=True)\n",
       "  (6): ReLU()\n",
       "  (7): MaxPool2d(kernel_size=2, stride=2, padding=0, dilation=1, ceil_mode=False)\n",
       "  (8): Conv2d(128, 256, kernel_size=(3, 3), stride=(1, 1), padding=(1, 1))\n",
       "  (9): BatchNorm2d(256, eps=1e-05, momentum=0.1, affine=True, track_running_stats=True)\n",
       "  (10): ReLU()\n",
       "  (11): MaxPool2d(kernel_size=2, stride=2, padding=0, dilation=1, ceil_mode=False)\n",
       "  (12): Flatten(start_dim=1, end_dim=-1)\n",
       "  (13): Linear(in_features=262144, out_features=256, bias=True)\n",
       "  (14): ReLU()\n",
       "  (15): Dropout(p=0.5, inplace=False)\n",
       "  (16): Linear(in_features=256, out_features=128, bias=True)\n",
       "  (17): ReLU()\n",
       "  (18): Linear(in_features=128, out_features=2, bias=True)\n",
       ")"
      ]
     },
     "execution_count": 7,
     "metadata": {},
     "output_type": "execute_result"
    }
   ],
   "source": [
    "device = torch.device(\"cuda\" if torch.cuda.is_available else \"cpu\")\n",
    "model.to(device)"
   ]
  },
  {
   "cell_type": "code",
   "execution_count": 5,
   "metadata": {},
   "outputs": [],
   "source": [
    "transform = transforms.Compose([\n",
    "    transforms.Resize((256, 256)),\n",
    "    transforms.ToTensor(),\n",
    "])"
   ]
  },
  {
   "cell_type": "code",
   "execution_count": 6,
   "metadata": {},
   "outputs": [],
   "source": [
    "traindataset = datasets.ImageFolder(root=\"images/\", transform=transform)\n",
    "testdataset = datasets.ImageFolder(root=\"test/\", transform=transform)\n",
    "\n",
    "train_dataloader = DataLoader(traindataset, batch_size=8, shuffle=True)\n",
    "test_dataloader = DataLoader(testdataset, batch_size=8)"
   ]
  },
  {
   "cell_type": "code",
   "execution_count": 20,
   "metadata": {},
   "outputs": [],
   "source": [
    "def recognize(img):\n",
    "    gray = cv2.cvtColor(img, cv2.COLOR_BGR2GRAY)\n",
    "    faces = detector(gray)\n",
    "    for face in faces:\n",
    "        x, y, w, h = face.left(), face.top(), face.width(), face.height()\n",
    "        face_roi = img[y:y+h, x:x+w]\n",
    "        resized = cv2.resize(face_roi, (256, 256))\n",
    "        normalize = resized / 255.0\n",
    "        reshaped = np.reshape(normalize, (1, 256, 256, 3))\n",
    "        model.eval()\n",
    "        result = model(reshaped)\n",
    "        _, label = torch.max(result, 1)\n",
    "        predicted = label[0].item()\n",
    "        cv2.rectangle(img, (x, y), (x+w, y+h), (0, 255, 47), 2)\n",
    "        cv2.putText(img, str(predicted), (x+5, y-5), cv2.FONT_HERSHEY_SIMPLEX, 0.9, (0, 255, 255, 2))\n",
    "    return img"
   ]
  },
  {
   "cell_type": "code",
   "execution_count": 46,
   "metadata": {},
   "outputs": [],
   "source": [
    "label_to_name = {\n",
    "    0: \"Furkan\",  # 0 etiketinin ismi\n",
    "    1: \"Kubilay\"    # 1 etiketinin ismi\n",
    "}"
   ]
  },
  {
   "cell_type": "code",
   "execution_count": 60,
   "metadata": {},
   "outputs": [],
   "source": [
    "def recognize2(img):\n",
    "    gray = cv2.cvtColor(img, cv2.COLOR_BGR2GRAY)\n",
    "    faces = detector(gray)\n",
    "\n",
    "    for face in faces:\n",
    "        x, y, w, h = face.left(), face.top(), face.width(), face.height()\n",
    "        face_roi = img[y:y+h, x:x+w]\n",
    "        \n",
    "        # Görüntüyü yeniden boyutlandır\n",
    "        resized = cv2.resize(face_roi, (256, 256))\n",
    "        normalize = resized / 255.0\n",
    "        reshaped = np.reshape(normalize, (1, 3, 256, 256))  # (1, 3, 256, 256) formatında\n",
    "\n",
    "        # Tensor'a dönüştür\n",
    "        tensor_image = torch.tensor(reshaped, dtype=torch.float32)\n",
    "        \n",
    "        # CUDA'ya taşı (eğer varsa)\n",
    "        if torch.cuda.is_available():\n",
    "            tensor_image = tensor_image.cuda()\n",
    "            model.cuda()\n",
    "\n",
    "        model.eval()  # Modeli değerlendirme moduna al\n",
    "\n",
    "        with torch.no_grad():  # Gradient hesaplamalarını devre dışı bırak\n",
    "            result = model(tensor_image)\n",
    "\n",
    "        _, label = torch.max(result, 1)\n",
    "        predicted_label = label[0].item()\n",
    "        \n",
    "        # Etiket numarasını isme dönüştür\n",
    "        predicted_name = label_to_name.get(predicted_label, \"Bilinmeyen\")  # Bilinmeyen isim için varsayılan değer\n",
    "\n",
    "        # Yüzün etrafına dikdörtgen çiz\n",
    "        cv2.rectangle(img, (x, y), (x+w, y+h), (0, 255, 47), 2)\n",
    "        cv2.putText(img, predicted_name, (x + 5, y - 5), cv2.FONT_HERSHEY_SIMPLEX, 0.9, (0, 255, 255), 2)\n",
    "\n",
    "    return img"
   ]
  },
  {
   "cell_type": "code",
   "execution_count": 63,
   "metadata": {},
   "outputs": [],
   "source": [
    "cap = cv2.VideoCapture(0)\n",
    "while True:\n",
    "    ret, frame = cap.read()\n",
    "    frame = cv2.flip(frame, 1)\n",
    "    # eğer baret takmıyorsa recognize yapacak\n",
    "    recognize2(frame)\n",
    "    cv2.imshow(\"Result\", frame)\n",
    "    if cv2.waitKey(1) & 0xFF == ord('q'):\n",
    "        break\n",
    "cap.release()\n",
    "cv2.destroyAllWindows()"
   ]
  },
  {
   "cell_type": "code",
   "execution_count": 59,
   "metadata": {},
   "outputs": [],
   "source": [
    "cap.release()\n",
    "cv2.destroyAllWindows()"
   ]
  },
  {
   "cell_type": "code",
   "execution_count": 36,
   "metadata": {},
   "outputs": [],
   "source": [
    "# Verilen DataLoader'dan bir sınıfa ait bir görüntüyü almak için bir fonksiyon\n",
    "def show_sample_image(trainloader, class_index):\n",
    "    \n",
    "    # DataLoader'dan bir örnek al\n",
    "    for images, labels in trainloader:\n",
    "        # Sınıfı filtrele\n",
    "        class_mask = (labels == class_index).nonzero(as_tuple=True)[0]\n",
    "        if len(class_mask) > 0:\n",
    "            sample_image = images[class_mask[0]]  # 1. örneği al\n",
    "            sample_label = labels[class_mask[0]]   # Etiketini al\n",
    "            break\n",
    "\n",
    "     # Görüntüyü numpy dizisine çevir\n",
    "    sample_image = sample_image.numpy().transpose((1, 2, 0))  # (C, H, W) -> (H, W, C)\n",
    "    \n",
    "    # Görüntüyü normalleştir (0-255 aralığına döndür)\n",
    "    sample_image = (sample_image * 255).astype(np.uint8)\n",
    "\n",
    "    # Görüntüyü görselleştir\n",
    "    plt.imshow(sample_image)\n",
    "    plt.title(f'Label: {sample_label.item()}')\n",
    "    plt.axis('off')  # Eksenleri kapat\n",
    "    plt.show()"
   ]
  },
  {
   "cell_type": "code",
   "execution_count": 35,
   "metadata": {},
   "outputs": [
    {
     "ename": "ModuleNotFoundError",
     "evalue": "No module named 'matplotlib'",
     "output_type": "error",
     "traceback": [
      "\u001b[1;31m---------------------------------------------------------------------------\u001b[0m",
      "\u001b[1;31mModuleNotFoundError\u001b[0m                       Traceback (most recent call last)",
      "Cell \u001b[1;32mIn[35], line 3\u001b[0m\n\u001b[0;32m      1\u001b[0m \u001b[38;5;66;03m# Örnek kullanım\u001b[39;00m\n\u001b[0;32m      2\u001b[0m class_index \u001b[38;5;241m=\u001b[39m \u001b[38;5;241m0\u001b[39m  \u001b[38;5;66;03m# İlgili sınıf indeksini belirtin\u001b[39;00m\n\u001b[1;32m----> 3\u001b[0m \u001b[43mshow_sample_image\u001b[49m\u001b[43m(\u001b[49m\u001b[43mtrain_dataloader\u001b[49m\u001b[43m,\u001b[49m\u001b[43m \u001b[49m\u001b[43mclass_index\u001b[49m\u001b[43m)\u001b[49m\n",
      "Cell \u001b[1;32mIn[34], line 3\u001b[0m, in \u001b[0;36mshow_sample_image\u001b[1;34m(trainloader, class_index)\u001b[0m\n\u001b[0;32m      2\u001b[0m \u001b[38;5;28;01mdef\u001b[39;00m \u001b[38;5;21mshow_sample_image\u001b[39m(trainloader, class_index):\n\u001b[1;32m----> 3\u001b[0m     \u001b[38;5;28;01mimport\u001b[39;00m \u001b[38;5;21;01mmatplotlib\u001b[39;00m\u001b[38;5;21;01m.\u001b[39;00m\u001b[38;5;21;01mpyplot\u001b[39;00m \u001b[38;5;28;01mas\u001b[39;00m \u001b[38;5;21;01mplt\u001b[39;00m\n\u001b[0;32m      4\u001b[0m     \u001b[38;5;66;03m# DataLoader'dan bir örnek al\u001b[39;00m\n\u001b[0;32m      5\u001b[0m     \u001b[38;5;28;01mfor\u001b[39;00m images, labels \u001b[38;5;129;01min\u001b[39;00m trainloader:\n\u001b[0;32m      6\u001b[0m         \u001b[38;5;66;03m# Sınıfı filtrele\u001b[39;00m\n",
      "\u001b[1;31mModuleNotFoundError\u001b[0m: No module named 'matplotlib'"
     ]
    }
   ],
   "source": [
    "# Örnek kullanım\n",
    "class_index = 0  # İlgili sınıf indeksini belirtin\n",
    "show_sample_image(train_dataloader, class_index)"
   ]
  },
  {
   "cell_type": "code",
   "execution_count": 45,
   "metadata": {},
   "outputs": [
    {
     "data": {
      "text/plain": [
       "['furkan', 'kubilay']"
      ]
     },
     "execution_count": 45,
     "metadata": {},
     "output_type": "execute_result"
    }
   ],
   "source": [
    "train_dataloader.dataset.classes"
   ]
  },
  {
   "cell_type": "code",
   "execution_count": null,
   "metadata": {},
   "outputs": [],
   "source": []
  }
 ],
 "metadata": {
  "kernelspec": {
   "display_name": "cudaEnv",
   "language": "python",
   "name": "python3"
  },
  "language_info": {
   "codemirror_mode": {
    "name": "ipython",
    "version": 3
   },
   "file_extension": ".py",
   "mimetype": "text/x-python",
   "name": "python",
   "nbconvert_exporter": "python",
   "pygments_lexer": "ipython3",
   "version": "3.10.15"
  }
 },
 "nbformat": 4,
 "nbformat_minor": 2
}
